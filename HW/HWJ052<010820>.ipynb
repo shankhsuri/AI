{
  "nbformat": 4,
  "nbformat_minor": 0,
  "metadata": {
    "colab": {
      "name": "Untitled14.ipynb",
      "provenance": [],
      "authorship_tag": "ABX9TyNtFN8dKY5pk0qIKOhVJ6Et",
      "include_colab_link": true
    },
    "kernelspec": {
      "name": "python3",
      "display_name": "Python 3"
    }
  },
  "cells": [
    {
      "cell_type": "markdown",
      "metadata": {
        "id": "view-in-github",
        "colab_type": "text"
      },
      "source": [
        "<a href=\"https://colab.research.google.com/github/shankhsuri/AI/blob/master/HW/HWJ052%3C010820%3E.ipynb\" target=\"_parent\"><img src=\"https://colab.research.google.com/assets/colab-badge.svg\" alt=\"Open In Colab\"/></a>"
      ]
    },
    {
      "cell_type": "code",
      "metadata": {
        "id": "r3GSsatbIs0L",
        "colab_type": "code",
        "colab": {
          "base_uri": "https://localhost:8080/",
          "height": 33
        },
        "outputId": "546d6ba3-8b01-4215-b086-d947f39d3e7e"
      },
      "source": [
        "#SHERLOCK AND COST\n",
        "#!/bin/python3\n",
        "\n",
        "import math\n",
        "import os\n",
        "import random\n",
        "import re\n",
        "import sys\n",
        "\n",
        "# Complete the cost function below.\n",
        "def cost(B):\n",
        "  le = len(B)\n",
        "  hi,low=0,0\n",
        "  for i in range(1,le): \n",
        "    hilow=abs(B[i-1] - 1)\n",
        "    hihi=abs(B[i] - B[i-1])\n",
        "    lowhi=abs(B[i] - 1)\n",
        "    low_next=max(low, hi+hilow)\n",
        "    hi_next=max(hi+hihi, low+lowhi)\n",
        "    low=low_next\n",
        "    hi=hi_next\n",
        "  return max (hi,low)\n",
        "B=[4,5,6,7,3,6]\n",
        "cost(B)\n"
      ],
      "execution_count": 1,
      "outputs": [
        {
          "output_type": "execute_result",
          "data": {
            "text/plain": [
              "25"
            ]
          },
          "metadata": {
            "tags": []
          },
          "execution_count": 1
        }
      ]
    },
    {
      "cell_type": "code",
      "metadata": {
        "id": "QzFXnn37It6b",
        "colab_type": "code",
        "colab": {}
      },
      "source": [
        "#The Coin Change Problem\n",
        "#!/bin/python3\n",
        "\n",
        "import math\n",
        "import os\n",
        "import random\n",
        "import re\n",
        "import sys\n",
        "\n",
        "#\n",
        "# Complete the 'getWays' function below.\n",
        "#\n",
        "# The function is expected to return a LONG_INTEGER.\n",
        "# The function accepts following parameters:\n",
        "#  1. INTEGER n\n",
        "#  2. LONG_INTEGER_ARRAY c\n",
        "#\n",
        "\n",
        "def getWays(n, c):\n",
        "    ways = [0] * (n + 1); \n",
        "    ways[0] = 1; \n",
        "    for i in range(len(c)): \n",
        "  \n",
        "        \n",
        "        for j in range(len(ways)): \n",
        "            if (c[i] <= j): \n",
        "  \n",
        "                \n",
        "                ways[j] += ways[(int)(j - c[i])]; \n",
        "  \n",
        "    \n",
        "    return ways[n]; \n",
        "\n"
      ],
      "execution_count": 3,
      "outputs": []
    },
    {
      "cell_type": "code",
      "metadata": {
        "id": "VRp5psw8I5LK",
        "colab_type": "code",
        "colab": {
          "base_uri": "https://localhost:8080/",
          "height": 33
        },
        "outputId": "ffa9c53a-a4b8-4dc7-e241-ad4d3152199b"
      },
      "source": [
        "#Validating Postal Codes\n",
        "import sys\n",
        "stdin=sys.stdin\n",
        "\n",
        "import re\n",
        "post=stdin.readline().strip()\n",
        "print(re.match(\"^[1-9][0-9]{5}$\",post) !=None and [ord(post[i])-ord(post[i+2]) for i in range(4)].count(0)<=1)"
      ],
      "execution_count": 4,
      "outputs": [
        {
          "output_type": "stream",
          "text": [
            "False\n"
          ],
          "name": "stdout"
        }
      ]
    },
    {
      "cell_type": "code",
      "metadata": {
        "id": "ypD0DvM2JJiq",
        "colab_type": "code",
        "colab": {}
      },
      "source": [
        ""
      ],
      "execution_count": null,
      "outputs": []
    }
  ]
}