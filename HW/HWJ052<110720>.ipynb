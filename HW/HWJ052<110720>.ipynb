{
  "nbformat": 4,
  "nbformat_minor": 0,
  "metadata": {
    "colab": {
      "name": "Untitled4.ipynb",
      "provenance": [],
      "mount_file_id": "1_Ko5ucB6kuTcgLXOzqit1h6N3cjtf0ES",
      "authorship_tag": "ABX9TyMJk18/ekwNxEGE43aqGBHg",
      "include_colab_link": true
    },
    "kernelspec": {
      "name": "python3",
      "display_name": "Python 3"
    }
  },
  "cells": [
    {
      "cell_type": "markdown",
      "metadata": {
        "id": "view-in-github",
        "colab_type": "text"
      },
      "source": [
        "<a href=\"https://colab.research.google.com/github/shankhsuri/AI/blob/master/HW/HWJ052%3C110720%3E.ipynb\" target=\"_parent\"><img src=\"https://colab.research.google.com/assets/colab-badge.svg\" alt=\"Open In Colab\"/></a>"
      ]
    },
    {
      "cell_type": "code",
      "metadata": {
        "id": "guT-CvD7148q",
        "colab_type": "code",
        "colab": {}
      },
      "source": [
        "import pandas as pd\n",
        "import matplotlib.pyplot as plt\n",
        "\n",
        "class DataRead():\n",
        "  def __init__(self,filename):\n",
        "    self.Data = pd.read_csv(filename)\n",
        "\n",
        "  def RowSelect(self,x1,x2):\n",
        "    print(self.Data.iloc[x1])\n",
        "    print(self.Data.iloc[x2])\n",
        "\n",
        "\n",
        "class DataRead2(DataRead):\n",
        "  def plot_correlation(self):\n",
        "    plot_data = self.Data\n",
        "    correlation = plot_data.corr()\n",
        "    sns.heatmap(correlation)\n",
        "    plt.show()\n",
        "\n",
        "  def RowSelect(self,x1,x2,x3):\n",
        "    print(self.Data.iloc[x1])\n",
        "    print(self.Data.iloc[x2])\n",
        "    print(self.Data.iloc[x3])\n",
        "\n",
        "\n",
        "\n",
        "\n",
        "\n"
      ],
      "execution_count": 12,
      "outputs": []
    },
    {
      "cell_type": "code",
      "metadata": {
        "id": "R_qTuPIUM_2G",
        "colab_type": "code",
        "colab": {
          "base_uri": "https://localhost:8080/",
          "height": 204
        },
        "outputId": "89845cd9-e07b-4552-9f45-bbb4736863b3"
      },
      "source": [
        "a=\"cars.csv\"\n",
        "c=DataRead(a)\n",
        "c.RowSelect(1,2)\n",
        "\n",
        "d=DataRead2(a)\n",
        "d.RowSelect(1,2,5)"
      ],
      "execution_count": 14,
      "outputs": [
        {
          "output_type": "stream",
          "text": [
            "Car;MPG;Cylinders;Displacement;Horsepower;Weight;Acceleration;Model;Origin    Chevrolet Chevelle Malibu;18.0;8;307.0;130.0;3...\n",
            "Name: 1, dtype: object\n",
            "Car;MPG;Cylinders;Displacement;Horsepower;Weight;Acceleration;Model;Origin    Buick Skylark 320;15.0;8;350.0;165.0;3693.;11....\n",
            "Name: 2, dtype: object\n",
            "Car;MPG;Cylinders;Displacement;Horsepower;Weight;Acceleration;Model;Origin    Chevrolet Chevelle Malibu;18.0;8;307.0;130.0;3...\n",
            "Name: 1, dtype: object\n",
            "Car;MPG;Cylinders;Displacement;Horsepower;Weight;Acceleration;Model;Origin    Buick Skylark 320;15.0;8;350.0;165.0;3693.;11....\n",
            "Name: 2, dtype: object\n",
            "Car;MPG;Cylinders;Displacement;Horsepower;Weight;Acceleration;Model;Origin    Ford Torino;17.0;8;302.0;140.0;3449.;10.5;70;US\n",
            "Name: 5, dtype: object\n"
          ],
          "name": "stdout"
        }
      ]
    }
  ]
}