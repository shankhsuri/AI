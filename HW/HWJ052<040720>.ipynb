{
  "nbformat": 4,
  "nbformat_minor": 0,
  "metadata": {
    "colab": {
      "name": "Untitled0.ipynb",
      "provenance": [],
      "authorship_tag": "ABX9TyPH9aPYNi4jf50V3UV/ZLjs",
      "include_colab_link": true
    },
    "kernelspec": {
      "name": "python3",
      "display_name": "Python 3"
    }
  },
  "cells": [
    {
      "cell_type": "markdown",
      "metadata": {
        "id": "view-in-github",
        "colab_type": "text"
      },
      "source": [
        "<a href=\"https://colab.research.google.com/github/shankhsuri/AI/blob/master/HW/HWJ052%3C040720%3E.ipynb\" target=\"_parent\"><img src=\"https://colab.research.google.com/assets/colab-badge.svg\" alt=\"Open In Colab\"/></a>"
      ]
    },
    {
      "cell_type": "code",
      "metadata": {
        "id": "Z7n0h-s6IDIP",
        "colab_type": "code",
        "colab": {}
      },
      "source": [
        "#Q1\n",
        "#!/bin/python3\n",
        "\n",
        "import math\n",
        "import os\n",
        "import random\n",
        "import re\n",
        "import sys\n",
        "\n",
        "\n",
        "\n",
        "if __name__ == '__main__':\n",
        "    n = int(input().strip())\n",
        "\n",
        "if(n%2 != 0):\n",
        "    print(\"Weird\")\n",
        "    \n",
        "elif(n%2 == 0):\n",
        "\n",
        "    if(n>=2 and n<=5):\n",
        "        print(\"Not Weird\")\n",
        "        \n",
        "    elif(n>5 and n<=20):\n",
        "        print(\"Weird\")\n",
        "        \n",
        "            \n",
        "    elif(n>20):\n",
        "        print(\"Not Weird\")\n",
        "            \n",
        "#Q2   \n",
        "if __name__ == '__main__':\n",
        "    a = int(input())\n",
        "    b = int(input())\n",
        "x = a + b\n",
        "print(x)\n",
        "    \n",
        "y = a - b\n",
        "print(y)\n",
        "    \n",
        "z = a *b\n",
        "print(z)\n",
        "\n",
        "#Q3\n",
        "if __name__ == '__main__':\n",
        "    a = int(input())\n",
        "    b = int(input())\n",
        "\n",
        "x = a//b\n",
        "print(x)\n",
        "\n",
        "y = a/b\n",
        "print(y)\n",
        "\n",
        "#Q4\n",
        "if __name__ == '__main__':\n",
        "    n = int(input())    \n",
        "\n",
        "for i in range(0, n):\n",
        "    a=i*i\n",
        "    print(a)    \n",
        "\n",
        "\n",
        "#Q5\n",
        "if __name__ == '__main__':\n",
        "    n = int(input())\n",
        "\n",
        "for i in range(1,n+1):\n",
        "    print(i,end='')\n",
        "\n",
        "#Q6\n",
        "if __name__ == '__main__':\n",
        "    x = int(input())\n",
        "    y = int(input())\n",
        "    z = int(input())\n",
        "    n = int(input())\n",
        "\n",
        "print([ [ i, j, k ] for i in range( x + 1) for j in range( y + 1) for k in range( z + 1)  if i + j + k != n])"
      ],
      "execution_count": null,
      "outputs": []
    }
  ]
}