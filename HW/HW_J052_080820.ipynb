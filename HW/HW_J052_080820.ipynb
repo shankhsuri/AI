{
  "nbformat": 4,
  "nbformat_minor": 0,
  "metadata": {
    "colab": {
      "name": "Untitled18.ipynb",
      "provenance": [],
      "authorship_tag": "ABX9TyPpRcDH+pri3EARbM0fsjIv",
      "include_colab_link": true
    },
    "kernelspec": {
      "name": "python3",
      "display_name": "Python 3"
    }
  },
  "cells": [
    {
      "cell_type": "markdown",
      "metadata": {
        "id": "view-in-github",
        "colab_type": "text"
      },
      "source": [
        "<a href=\"https://colab.research.google.com/github/shankhsuri/AI/blob/master/HW/HW_J052_080820.ipynb\" target=\"_parent\"><img src=\"https://colab.research.google.com/assets/colab-badge.svg\" alt=\"Open In Colab\"/></a>"
      ]
    },
    {
      "cell_type": "code",
      "metadata": {
        "id": "E8i_Dv6ckt9h",
        "colab_type": "code",
        "colab": {}
      },
      "source": [
        "#Knapsack Problem"
      ],
      "execution_count": 1,
      "outputs": []
    },
    {
      "cell_type": "code",
      "metadata": {
        "id": "jgqcwItMk6OC",
        "colab_type": "code",
        "colab": {
          "base_uri": "https://localhost:8080/",
          "height": 134
        },
        "outputId": "0b0d65a1-442a-4aa0-a6d4-3465cec6bd5e"
      },
      "source": [
        "import sys\n",
        "import heapq\n",
        "\n",
        "def knapsack(N,M,S,V,E) :\n",
        "  T = tuple(set() for _ in range(N))\n",
        "  for u,v in E :\n",
        "    T[u].add(v)\n",
        "    T[v].add(u)\n",
        "    Total, order, maxVal = sum(V), sorted(range(n), reverse=True, key=(lambda i : V[i]/S[i])), 0\n",
        "  def maximum(visit, connect, reject, size, value, rejectVal, maxVal) :\n",
        "      if value > maxVal :\n",
        "          maxVal = value\n",
        "      if not connect :\n",
        "          return maxVal\n",
        "      i = best_case(connect)\n",
        "      if size + S[i] <= M :\n",
        "          maxVal = maximum(visit|{i}, (connect-{i}) | (T[i]-reject-visit), reject, size+S[i], value+V[i], rejectVal, maxVal)\n",
        "      if Total - (rejectVal + V[i]) > maxVal :\n",
        "          maxVal = maximum(visit|{i}, connect-{i}, reject | {i}, size, value, rejectVal + V[i], maxVal)\n",
        "      return maxVal\n",
        "  def best_case(connect) :\n",
        "      for i in order :\n",
        "          if i in connect :\n",
        "              return i\n",
        "  for s in order :\n",
        "      maxVal = maximum(set(),{s},set(),0,0,0,maxVal)\n",
        "  return maxVal\n",
        "\n",
        "T = int(input())\n",
        "for _ in range(T) :\n",
        "    n,m = (int(_) for _ in input().split())\n",
        "    s = tuple(int(_) for _ in input().split())\n",
        "    v = tuple(int(_) for _ in input().split())\n",
        "    e = tuple((int(_)-1 for _ in input().split()) for _ in range(n-1))\n",
        "    print(\"Output is: \" ,knapsack(n,m,s,v,e))"
      ],
      "execution_count": 2,
      "outputs": [
        {
          "output_type": "stream",
          "text": [
            "1\n",
            "3 1\n",
            "1 1 1\n",
            "1 2 3\n",
            "1 2\n",
            "1 3\n",
            "Output is:  3\n"
          ],
          "name": "stdout"
        }
      ]
    },
    {
      "cell_type": "code",
      "metadata": {
        "id": "B_UpkT1ik9Uc",
        "colab_type": "code",
        "colab": {
          "base_uri": "https://localhost:8080/",
          "height": 167
        },
        "outputId": "fe6fbf5b-530e-4885-ff73-d0c02ffe0dd1"
      },
      "source": [
        "T = int(input())\n",
        "for _ in range(T) :\n",
        "    n,m = (int(_) for _ in input().split())\n",
        "    s = tuple(int(_) for _ in input().split())\n",
        "    v = tuple(int(_) for _ in input().split())\n",
        "    e = tuple((int(_)-1 for _ in input().split()) for _ in range(n-1))\n",
        "    print(\"Output is: \" ,knapsack(n,m,s,v,e))"
      ],
      "execution_count": 6,
      "outputs": [
        {
          "output_type": "stream",
          "text": [
            "1\n",
            "5 3\n",
            "1 1 1 1 1\n",
            "3 5 2 2 3\n",
            "1 2\n",
            "1 3\n",
            "2 4\n",
            "2 5\n",
            "Output is:  11\n"
          ],
          "name": "stdout"
        }
      ]
    },
    {
      "cell_type": "code",
      "metadata": {
        "id": "sB8nd_QYlR_O",
        "colab_type": "code",
        "colab": {
          "base_uri": "https://localhost:8080/",
          "height": 234
        },
        "outputId": "53d93d44-6da2-4388-8c49-971f940f2dd1"
      },
      "source": [
        "\n",
        "T = int(input())\n",
        "for _ in range(T) :\n",
        "    n,m = (int(_) for _ in input().split())\n",
        "    s = tuple(int(_) for _ in input().split())\n",
        "    v = tuple(int(_) for _ in input().split())\n",
        "    e = tuple((int(_)-1 for _ in input().split()) for _ in range(n-1))\n",
        "    print(\"Output is: \" ,knapsack(n,m,s,v,e))"
      ],
      "execution_count": 8,
      "outputs": [
        {
          "output_type": "stream",
          "text": [
            "1 \n",
            "9 7\n",
            "1 1 3 2 1 1 1 5 5\n",
            "1 0 8 5 1 2 0 9 14\n",
            "1 2\n",
            "2 3\n",
            "2 4\n",
            "3 5\n",
            "3 6\n",
            "4 7\n",
            "4 8\n",
            "7 9\n",
            "Output is:  15\n"
          ],
          "name": "stdout"
        }
      ]
    }
  ]
}