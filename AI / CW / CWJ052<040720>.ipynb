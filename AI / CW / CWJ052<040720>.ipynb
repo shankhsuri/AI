{
  "nbformat": 4,
  "nbformat_minor": 0,
  "metadata": {
    "colab": {
      "name": "class 01 - Shankh Suri.ipynb",
      "provenance": [],
      "include_colab_link": true
    },
    "kernelspec": {
      "name": "python3",
      "display_name": "Python 3"
    }
  },
  "cells": [
    {
      "cell_type": "markdown",
      "metadata": {
        "id": "view-in-github",
        "colab_type": "text"
      },
      "source": [
        "<a href=\"https://colab.research.google.com/github/shankhsuri/AI/blob/master/AI%20/%20CW%20/%20CWJ052%3C040720%3E.ipynb\" target=\"_parent\"><img src=\"https://colab.research.google.com/assets/colab-badge.svg\" alt=\"Open In Colab\"/></a>"
      ]
    },
    {
      "cell_type": "code",
      "metadata": {
        "id": "IaWAzNsYF1k6",
        "colab_type": "code",
        "colab": {
          "base_uri": "https://localhost:8080/",
          "height": 34
        },
        "outputId": "7bc663e5-bfca-4c82-9e0d-0d52968e3071"
      },
      "source": [
        "#list\n",
        "a = [1,2,3,4,5, 'human']\n",
        "\n",
        "#tuple\n",
        "a = (1,2,3,4,5, 'human')\n",
        "\n",
        "#set\n",
        "a = {1,2,3,4,5, 'human'}\n",
        "\n",
        "\n",
        "a= {'list':[1,2,3,4,5, 'human'], 'tuple':(1,2,3,4,5, 'human'), 'set':{1,2,3,4,5, 'human'}}\n",
        "type(a)\n",
        "\n"
      ],
      "execution_count": null,
      "outputs": [
        {
          "output_type": "execute_result",
          "data": {
            "text/plain": [
              "dict"
            ]
          },
          "metadata": {
            "tags": []
          },
          "execution_count": 3
        }
      ]
    },
    {
      "cell_type": "code",
      "metadata": {
        "id": "j480hqZRIk9H",
        "colab_type": "code",
        "colab": {
          "base_uri": "https://localhost:8080/",
          "height": 34
        },
        "outputId": "66046d1c-73e5-4878-d9c4-877ac60c500f"
      },
      "source": [
        "a = 'surii'\n",
        "set(a)"
      ],
      "execution_count": null,
      "outputs": [
        {
          "output_type": "execute_result",
          "data": {
            "text/plain": [
              "{'i', 'r', 's', 'u'}"
            ]
          },
          "metadata": {
            "tags": []
          },
          "execution_count": 4
        }
      ]
    },
    {
      "cell_type": "code",
      "metadata": {
        "id": "IpuYCQElK7Eu",
        "colab_type": "code",
        "colab": {}
      },
      "source": [
        "# hence duplicate elements are not allowed\n"
      ],
      "execution_count": null,
      "outputs": []
    },
    {
      "cell_type": "code",
      "metadata": {
        "id": "wEA6YjRnLP5R",
        "colab_type": "code",
        "colab": {}
      },
      "source": [
        " a = {4, 'name', 99.9, }\n",
        " # sets can include elements of diiferent types."
      ],
      "execution_count": null,
      "outputs": []
    },
    {
      "cell_type": "code",
      "metadata": {
        "id": "dX20oe_ROI4N",
        "colab_type": "code",
        "colab": {}
      },
      "source": [
        ""
      ],
      "execution_count": null,
      "outputs": []
    }
  ]
}