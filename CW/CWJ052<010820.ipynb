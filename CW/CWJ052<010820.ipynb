{
  "nbformat": 4,
  "nbformat_minor": 0,
  "metadata": {
    "colab": {
      "name": "Untitled12.ipynb",
      "provenance": [],
      "authorship_tag": "ABX9TyOW0z9C1RSGmo9E9xYWgDI6",
      "include_colab_link": true
    },
    "kernelspec": {
      "name": "python3",
      "display_name": "Python 3"
    }
  },
  "cells": [
    {
      "cell_type": "markdown",
      "metadata": {
        "id": "view-in-github",
        "colab_type": "text"
      },
      "source": [
        "<a href=\"https://colab.research.google.com/github/shankhsuri/AI/blob/master/CW/CWJ052%3C010820.ipynb\" target=\"_parent\"><img src=\"https://colab.research.google.com/assets/colab-badge.svg\" alt=\"Open In Colab\"/></a>"
      ]
    },
    {
      "cell_type": "code",
      "metadata": {
        "id": "Kh2qv2rDFN7D",
        "colab_type": "code",
        "colab": {
          "base_uri": "https://localhost:8080/",
          "height": 33
        },
        "outputId": "7d1faa4e-e012-48e6-af59-b537fd6ddae2"
      },
      "source": [
        "#factorial\n",
        "def factorial(a):\n",
        "  if a==1:\n",
        "    return 1\n",
        "  else:\n",
        "    a=a*factorial(a-1)\n",
        "    return a\n",
        "print (factorial(10))"
      ],
      "execution_count": null,
      "outputs": [
        {
          "output_type": "stream",
          "text": [
            "3628800\n"
          ],
          "name": "stdout"
        }
      ]
    },
    {
      "cell_type": "code",
      "metadata": {
        "id": "qJfU8-uvFa1P",
        "colab_type": "code",
        "colab": {
          "base_uri": "https://localhost:8080/",
          "height": 117
        },
        "outputId": "7ae8956e-2b91-4392-d0ae-40eb4a78dfad"
      },
      "source": [
        "def fibo(n):\n",
        "  if n==0:\n",
        "    return (0)\n",
        "  if n==1:\n",
        "    return (1)  \n",
        "  else: \n",
        "    return fibo(n-1)+fibo(n-2)\n",
        "\n",
        "x=int(input(\"Enter fibo range\"))\n",
        "for i in range(x):\n",
        "  print(fibo(i))"
      ],
      "execution_count": null,
      "outputs": [
        {
          "output_type": "stream",
          "text": [
            "Enter fibo range5\n",
            "0\n",
            "1\n",
            "1\n",
            "2\n",
            "3\n"
          ],
          "name": "stdout"
        }
      ]
    },
    {
      "cell_type": "code",
      "metadata": {
        "id": "JVmqK8K-Fe8E",
        "colab_type": "code",
        "colab": {
          "base_uri": "https://localhost:8080/",
          "height": 33
        },
        "outputId": "1341c1e2-928c-44d3-c5c9-3d38447ba803"
      },
      "source": [
        "list=[9,5,7,45,35,299,40]\n",
        "list.sort()\n",
        "print(list)"
      ],
      "execution_count": null,
      "outputs": [
        {
          "output_type": "stream",
          "text": [
            "[5, 7, 9, 35, 40, 45, 299]\n"
          ],
          "name": "stdout"
        }
      ]
    },
    {
      "cell_type": "code",
      "metadata": {
        "id": "1h6TwuVoFjhU",
        "colab_type": "code",
        "colab": {}
      },
      "source": [
        "#Tractable - PTIME (Polynomial Time Solvable)Solution is in Polynomial Time Polynomial - expression where each term is n^k where k can be any whole number Degree of the polynomial highest power of the variable within the expression\n",
        "\n",
        "#Polynomial Time - Runtime of the code or solution should be a polynomial of degree k where k is a constant, and since it is time n cannot be negative n: input space or dimension eg O(n^4) - 3n^4+2n^2+1 n=1 => 1 n=2 => 2^4 n=3 => 3^4 n=4 => 4^4 ...\n",
        "\n",
        "#O(n!) nn-1n-2*...1 -> Polynomial of Degree n-1 - Non Polynomial Time (NP)\n",
        "\n"
      ],
      "execution_count": null,
      "outputs": []
    },
    {
      "cell_type": "code",
      "metadata": {
        "id": "0hmFIXYIFwDZ",
        "colab_type": "code",
        "colab": {}
      },
      "source": [
        ""
      ],
      "execution_count": null,
      "outputs": []
    }
  ]
}